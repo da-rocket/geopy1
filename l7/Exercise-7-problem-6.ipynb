{
 "cells": [
  {
   "cell_type": "markdown",
   "metadata": {},
   "source": [
    "## Problem 6 - Creating a GIF animation from the figures\n",
    "\n",
    "In Problems 3 to 5 the aim was to plot multiple images representing the temperature anomalies for several years. \n",
    "\n",
    "An optional task was to create an animation out of those figures. Animating the figures generated in Problems 6 is fairly straightforward task to do in Python. All you need to do is to install a module called **`imageio`** and run couple lines of code that I show below.\n",
    "\n",
    "If you are working with your own computer, your first need to install imageio module. Installing the module can be done by running following command from the command prompt / terminal with admin rights:\n",
    "\n",
    "```\n",
    "$ conda install -c conda-forge imageio\n",
    "```\n",
    "\n",
    "### Creating the animation\n",
    "\n",
    "Following commands should produce a nice gif-animation out of your plots. The idea is that you list all the files from the folder where you saved the plots using glob function, and then pass that file list into imageio function called **`imageio.mimsave()**`. A following example shows how to do that.\n",
    "\n",
    "First we list all the files from folder that has **`.png`** file format using glob. The * wildcard character tells to computer that the name of the file can be anything (the purpose of the star). .png after the star tells that the filename should end with .png characters. If there are some other files with other file format than .png, they will be excluded. Finally, we create the animation into the computer.\n",
    "\n",
    "```\n",
    "import glob\n",
    "import imageio\n",
    "\n",
    "# Find all files from given folder that has .png file-format\n",
    "search_criteria = r\"C:\\MyUserName\\Temp_visualizations\\*.png\"\n",
    "\n",
    "# Execute the glob function that returns a list of filepaths\n",
    "figure_paths = glob.glob(search_criteria)\n",
    "\n",
    "# Save the animation to disk with 48 ms durations\n",
    "output_gif_path = r\"C:\\MyUserName\\Temp_animation.gif\"\n",
    "imageio.mimsave(output_gif_path, [imageio.imread(fp) for fp in figure_paths], duration=0.48, subrectangles=True)\n",
    "```\n",
    "\n",
    "With these lines of code you should be able to create a nice animation out of your plots! **All you need to do is to adjust the filepaths.**"
   ]
  },
  {
   "cell_type": "code",
   "execution_count": 2,
   "metadata": {},
   "outputs": [
    {
     "name": "stdout",
     "output_type": "stream",
     "text": [
      "['./figures\\\\seasonal_anomalies_in_1988.png', './figures\\\\seasonal_anomalies_in_1989.png', './figures\\\\seasonal_anomalies_in_1990.png', './figures\\\\seasonal_anomalies_in_1991.png', './figures\\\\seasonal_anomalies_in_1992.png', './figures\\\\seasonal_anomalies_in_1993.png', './figures\\\\seasonal_anomalies_in_1994.png', './figures\\\\seasonal_anomalies_in_1995.png', './figures\\\\seasonal_anomalies_in_1996.png', './figures\\\\seasonal_anomalies_in_1997.png', './figures\\\\seasonal_anomalies_in_1998.png', './figures\\\\seasonal_anomalies_in_1999.png', './figures\\\\seasonal_anomalies_in_2000.png', './figures\\\\seasonal_anomalies_in_2001.png', './figures\\\\seasonal_anomalies_in_2002.png', './figures\\\\seasonal_anomalies_in_2003.png', './figures\\\\seasonal_anomalies_in_2004.png', './figures\\\\seasonal_anomalies_in_2005.png', './figures\\\\seasonal_anomalies_in_2006.png', './figures\\\\seasonal_anomalies_in_2007.png', './figures\\\\seasonal_anomalies_in_2008.png', './figures\\\\seasonal_anomalies_in_2009.png', './figures\\\\seasonal_anomalies_in_2010.png', './figures\\\\seasonal_anomalies_in_2011.png', './figures\\\\seasonal_anomalies_in_2012.png', './figures\\\\seasonal_anomalies_in_2013.png', './figures\\\\seasonal_anomalies_in_2014.png', './figures\\\\seasonal_anomalies_in_2015.png', './figures\\\\seasonal_anomalies_in_2016.png', './figures\\\\seasonal_anomalies_in_2017.png', './figures\\\\seasonal_anomalies_in_2018.png']\n"
     ]
    }
   ],
   "source": [
    "import glob\n",
    "import imageio\n",
    "\n",
    "# create a shablon for png files\n",
    "search_criteria = r'./figures/*.png'\n",
    "\n",
    "# get the list of all filepaths\n",
    "figure_paths = glob.glob(search_criteria)\n",
    "\n",
    "# save file\n",
    "output_gif_path = r'./figures/Temperature_animation.gif'\n",
    "imageio.mimsave(output_gif_path, [imageio.imfor fp in figure_paths])\n"
   ]
  }
 ],
 "metadata": {
  "kernelspec": {
   "display_name": "Python 3",
   "language": "python",
   "name": "python3"
  },
  "language_info": {
   "codemirror_mode": {
    "name": "ipython",
    "version": 3
   },
   "file_extension": ".py",
   "mimetype": "text/x-python",
   "name": "python",
   "nbconvert_exporter": "python",
   "pygments_lexer": "ipython3",
   "version": "3.7.3"
  }
 },
 "nbformat": 4,
 "nbformat_minor": 4
}
