{
 "cells": [
  {
   "cell_type": "markdown",
   "metadata": {
    "deletable": false,
    "editable": false,
    "nbgrader": {
     "cell_type": "markdown",
     "checksum": "5817b90a2ea09a42ce894d13195c176c",
     "grade": false,
     "grade_id": "cell-33948b9e14791c81",
     "locked": true,
     "schema_version": 3,
     "solution": false
    }
   },
   "source": [
    "## Problem 1: Simple scatter plot using random (5 points)\n",
    "\n",
    "The aim of this task is to create a simple scatter plot using random input values and random colors!\n",
    "Finally, you will save the plot as `.png` file that should look something like this: \n",
    " \n",
    " ![Example figure](img/problem1_example.png)\n",
    " \n",
    "Remeber to also commit the image file into your GitHub repo!\n",
    " \n",
    "### Hint: generating random numbers\n",
    "\n",
    "We can generate random numbers using using a method `random.rand()` from the [NumPy package](https://numpy.org/). This example generates 10 random values:\n",
    "\n",
    "```\n",
    "import numpy as np\n",
    "random_numbers = np.random.rand(10)\n",
    "\n",
    "```\n",
    "\n",
    "this produces an array object `random_numbers` that could look, for example, like this (each time you run the code you get a different set of random numbers!):\n",
    "\n",
    "``` \n",
    "array([0.30888937, 0.02648327, 0.62740074, 0.75795089, 0.41083545,\n",
    "       0.91937694, 0.90100588, 0.33312242, 0.39950947, 0.8181788 ]\n",
    "``` \n",
    "\n",
    "\n",
    "You can insert this array into a column in a pandas data frame, assuming that the array length and data frame length match:\n",
    "\n",
    "```\n",
    "...\n",
    "\n",
    "data[\"new_column\"] = random_numbers\n",
    "```\n",
    "\n",
    "\n",
    "### Steps\n",
    "\n",
    "1: Create an new data frame called `data` and add 1000 random numbers (`float`) into a new column `x` and another 1000 random numbers (`float`) into a new column `y`."
   ]
  },
  {
   "cell_type": "code",
   "execution_count": null,
   "metadata": {
    "deletable": false,
    "nbgrader": {
     "cell_type": "code",
     "checksum": "7c9b217ef27b4ae8712ddbd67fb5860a",
     "grade": false,
     "grade_id": "random_points",
     "locked": false,
     "schema_version": 3,
     "solution": true
    }
   },
   "outputs": [],
   "source": [
    "import numpy as np\n",
    "import pandas as pd\n",
    "# REPLACE THE ERROR BELOW WITH YOUR OWN CODE\n",
    "raise NotImplementedError()"
   ]
  },
  {
   "cell_type": "code",
   "execution_count": null,
   "metadata": {
    "deletable": false,
    "editable": false,
    "nbgrader": {
     "cell_type": "code",
     "checksum": "2947ad04b7ddfd57181785d92b40a5df",
     "grade": true,
     "grade_id": "problem_1_random_points_tests",
     "locked": true,
     "points": 1,
     "schema_version": 3,
     "solution": false
    }
   },
   "outputs": [],
   "source": [
    "# Check your random values\n",
    "print(data.head())\n",
    "\n",
    "# The number of rows should be 1000:\n",
    "print(\"Number of rows:\", len(data))"
   ]
  },
  {
   "cell_type": "markdown",
   "metadata": {
    "deletable": false,
    "editable": false,
    "nbgrader": {
     "cell_type": "markdown",
     "checksum": "a5f9ce545f7b6761c255b4620e85c2d4",
     "grade": false,
     "grade_id": "cell-7fb6a23ba6c8ea59",
     "locked": true,
     "schema_version": 3,
     "solution": false
    }
   },
   "source": [
    "2: create a variable **`colors`** in which you should store 1000 random colors so that we get a little bit of sweeter looking plot.\n",
    "\n",
    "The variable `colors` should be an array full of random numbers.\n",
    " "
   ]
  },
  {
   "cell_type": "code",
   "execution_count": null,
   "metadata": {
    "deletable": false,
    "nbgrader": {
     "cell_type": "code",
     "checksum": "1f038bf4011f46d24d62e4bda64dc4ac",
     "grade": false,
     "grade_id": "colors",
     "locked": false,
     "schema_version": 3,
     "solution": true
    }
   },
   "outputs": [],
   "source": [
    "# REPLACE THE ERROR BELOW WITH YOUR OWN CODE\n",
    "raise NotImplementedError()"
   ]
  },
  {
   "cell_type": "code",
   "execution_count": null,
   "metadata": {
    "deletable": false,
    "editable": false,
    "nbgrader": {
     "cell_type": "code",
     "checksum": "9edadd6c2881983896ffa8cb86b7fe81",
     "grade": true,
     "grade_id": "problem_1_colors_tests",
     "locked": true,
     "points": 0.5,
     "schema_version": 3,
     "solution": false
    }
   },
   "outputs": [],
   "source": [
    "# This test print should print out 10 frst numbers in the variable colors:\n",
    "print(colors[0:10])"
   ]
  },
  {
   "cell_type": "markdown",
   "metadata": {
    "deletable": false,
    "editable": false,
    "nbgrader": {
     "cell_type": "markdown",
     "checksum": "4a1a32cc1deba3cfbd36602be6f5b586",
     "grade": false,
     "grade_id": "cell-4f766d991d40522f",
     "locked": true,
     "schema_version": 3,
     "solution": false
    }
   },
   "source": [
    "3: create a scatter plot of points with random colors\n",
    "\n",
    "Plot a scatterplot using `DataFrame.plot()`:\n",
    "- set the type of the plot using parameter `kind=scatter` (OR use `DataFrame.plot.scatter()`)\n",
    "- modify the size of a point using parameter `s` (the example plot uses `s=50`)\n",
    "- set the random colors for the points using parameter `c`\n",
    "- set the color scheme using parameter `colormap`. \n",
    "    - The example image uses colormap `'rainbow'` 🌈\n",
    "    - you can also choose another color map from here: https://matplotlib.org/3.1.0/tutorials/colors/colormaps.html\n",
    "    - you can add a black outline for the points using the parameter `edgecolor`. The example uses `edgecolor=black`.   \n",
    "\n",
    "4: Add title, x-label and y-label to your plot as shown in the example figure:\n",
    "\n",
    "- create variables `title`, `xlabel` and `ylabel` and store the title and axis labels texts in them\n",
    "- use `matplotlib.pyplot` methods to add the title and labels to the figure\n",
    "\n",
    "\n",
    "**Feel free to change the colors and markers in the plot :)**\n"
   ]
  },
  {
   "cell_type": "markdown",
   "metadata": {
    "deletable": false,
    "editable": false,
    "nbgrader": {
     "cell_type": "markdown",
     "checksum": "665183ce1e9085c93458389b8fd132e6",
     "grade": false,
     "grade_id": "cell-0545d812600e5465",
     "locked": true,
     "schema_version": 3,
     "solution": false
    }
   },
   "source": [
    "5: Create a variable `outputfp` with the output filename `my_first_plot.png` and save your plot as a PNG file into the disk (note: you have to save the file in the same code cell where you do the plotting). "
   ]
  },
  {
   "cell_type": "code",
   "execution_count": null,
   "metadata": {
    "deletable": false,
    "nbgrader": {
     "cell_type": "code",
     "checksum": "aeaedce323da82edb443e92d76afdbe3",
     "grade": true,
     "grade_id": "scatter_plot",
     "locked": false,
     "points": 3,
     "schema_version": 3,
     "solution": true
    }
   },
   "outputs": [],
   "source": [
    "%matplotlib inline\n",
    "\n",
    "# Plot a scatter plot\n",
    "# REPLACE THE ERROR BELOW WITH YOUR OWN CODE\n",
    "raise NotImplementedError()\n",
    "\n",
    "# Add labels and title\n",
    "# REPLACE THE ERROR BELOW WITH YOUR OWN CODE\n",
    "raise NotImplementedError()\n",
    "\n",
    "# Save the plot as a png file:\n",
    "outputfp = \"my_first_plot.png\"\n",
    "\n",
    "# REPLACE THE ERROR BELOW WITH YOUR OWN CODE\n",
    "raise NotImplementedError()\n",
    "\n",
    "# This test print statement should print the output filename of your figure\n",
    "print(\"Saved my first plot as:\", outputfp)"
   ]
  },
  {
   "cell_type": "code",
   "execution_count": null,
   "metadata": {
    "deletable": false,
    "editable": false,
    "nbgrader": {
     "cell_type": "code",
     "checksum": "0e8e28e1949d93f4b3451c45ad6d8320",
     "grade": true,
     "grade_id": "problem_1_outputfile_test",
     "locked": true,
     "points": 0.5,
     "schema_version": 3,
     "solution": false,
     "task": false
    }
   },
   "outputs": [],
   "source": [
    "#Check that the file exists (also go and open the file to check that everything is ok!)\n",
    "import os\n",
    "os.path.exists(outputfp)"
   ]
  },
  {
   "cell_type": "markdown",
   "metadata": {
    "deletable": false,
    "editable": false,
    "nbgrader": {
     "cell_type": "markdown",
     "checksum": "de005aee1fcddca425be86f679ebfa4a",
     "grade": false,
     "grade_id": "cell-ba40728abeff91e4",
     "locked": true,
     "schema_version": 3,
     "solution": false
    }
   },
   "source": [
    "Remember to commit your changes (including the image file) to your GitHub repo!\n",
    "\n",
    "### Done!\n",
    "\n",
    "Now you can move to [problem 2](Exercise-7-problem-2.ipynb)."
   ]
  }
 ],
 "metadata": {
  "kernelspec": {
   "display_name": "Python 3",
   "language": "python",
   "name": "python3"
  },
  "language_info": {
   "codemirror_mode": {
    "name": "ipython",
    "version": 3
   },
   "file_extension": ".py",
   "mimetype": "text/x-python",
   "name": "python",
   "nbconvert_exporter": "python",
   "pygments_lexer": "ipython3",
   "version": "3.7.3"
  }
 },
 "nbformat": 4,
 "nbformat_minor": 4
}
