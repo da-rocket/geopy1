{
 "cells": [
  {
   "cell_type": "markdown",
   "metadata": {
    "deletable": false,
    "editable": false,
    "nbgrader": {
     "cell_type": "markdown",
     "checksum": "3b662cdee17ba1b411a878ba73f12371",
     "grade": false,
     "grade_id": "cell-8f87d3f057af49f1",
     "locked": true,
     "schema_version": 3,
     "solution": false,
     "task": false
    }
   },
   "source": [
    "## Problem 4 (*optional*) - Parsing daily temperatures\n",
    "\n",
    "**This is an optional task for more advanced students who want more practice.**\n",
    "\n",
    "In this problem, the aim is to aggregate the hourly temperature data for Helsinki Kumpula and Rovaniemi weather stations to a daily level. Currently, there are 3 measurements per hour in the data.\n",
    "\n",
    "This problem is more challenging as we provide only minimal instructions for completing the given tasks.\n",
    "\n",
    "### What to do\n",
    "\n",
    "- Create a new DataFrame where you have calculated mean, max and min Celsius temperatures for each day separately using the hourly values from Rovaniemi and Helsinki Kumpula\n",
    "\n",
    "Don't forget to:\n",
    "\n",
    "- Include useful comments in your code\n",
    "- Push your solution to GitHub\n",
    "\n",
    "### Hint\n",
    "\n",
    "You can find help from the [Pandas Official documentation](https://pandas.pydata.org/pandas-docs/stable/) and Google. If you think you can handle this but don't know how to proceed, ask for tips in Slack!"
   ]
  },
  {
   "cell_type": "code",
   "execution_count": 13,
   "metadata": {
    "deletable": false,
    "nbgrader": {
     "cell_type": "code",
     "checksum": "bc2c0cbdbd05f494393e88f2ee59753e",
     "grade": true,
     "grade_id": "cell-978d5674f4fa37fc",
     "locked": false,
     "points": 0,
     "schema_version": 3,
     "solution": true,
     "task": false
    }
   },
   "outputs": [
    {
     "name": "stdout",
     "output_type": "stream",
     "text": [
      "Daily Kumpula temps \n",
      "                  USAF       TEMP   MAX   MIN    Celsius\n",
      "YR--MODAHRMN                                           \n",
      "2017-05-01    29980.0  45.541667  49.0  39.0   7.625000\n",
      "2017-05-02    29980.0  49.458333  55.5  41.5   9.750000\n",
      "2017-05-03    29980.0  48.583333  55.0  42.5   9.208333\n",
      "2017-05-04    29980.0  44.208333  51.5  40.5   6.666667\n",
      "2017-05-05    29980.0  50.583333  54.5  40.0  10.250000 \n",
      "\n",
      "Daily Rovaniemi temps \n",
      "                  USAF       TEMP   MAX   MIN   Celsius\n",
      "YR--MODAHRMN                                          \n",
      "2017-05-01    28450.0  35.958333  39.0  30.5  2.180556\n",
      "2017-05-02    28450.0  38.180556  43.5  35.5  3.402778\n",
      "2017-05-03    28450.0  35.788732  38.0  35.0  2.112676\n",
      "2017-05-04    28450.0  39.902778  42.5  32.5  4.388889\n",
      "2017-05-05    28450.0  44.430556  51.0  40.0  6.916667 \n",
      "\n"
     ]
    }
   ],
   "source": [
    "import pandas as pd\n",
    "\n",
    "# load files; assign date/time column to index to make easier manipulation with date/time\n",
    "kumpula = pd.read_csv('Kumpula_temps_May_Aug_2017.csv', index_col='YR--MODAHRMN', parse_dates=True)\n",
    "rovaniemi = pd.read_csv('Rovaniemi_temps_May_Aug_2017.csv', index_col='YR--MODAHRMN', parse_dates=True)\n",
    "\n",
    "# aggregate data to daily aggregation\n",
    "kumpula_daily = kumpula.resample('d').mean()\n",
    "rovaniemi_daily = rovaniemi.resample('d').mean()\n",
    "\n",
    "labels = ['Daily Kumpula temps', 'Daily Rovaniemi temps']\n",
    "datasets = [kumpula_daily, rovaniemi_daily]\n",
    "\n",
    "for (label, dataset) in zip(labels, datasets):\n",
    "    print(label, '\\n', dataset.head(), '\\n')\n"
   ]
  }
 ],
 "metadata": {
  "anaconda-cloud": {},
  "kernelspec": {
   "display_name": "Python 3",
   "language": "python",
   "name": "python3"
  },
  "language_info": {
   "codemirror_mode": {
    "name": "ipython",
    "version": 3
   },
   "file_extension": ".py",
   "mimetype": "text/x-python",
   "name": "python",
   "nbconvert_exporter": "python",
   "pygments_lexer": "ipython3",
   "version": "3.7.3"
  }
 },
 "nbformat": 4,
 "nbformat_minor": 2
}
